{
 "cells": [
  {
   "cell_type": "markdown",
   "metadata": {},
   "source": [
    "# Project Description"
   ]
  },
  {
   "cell_type": "markdown",
   "metadata": {},
   "source": [
    "This project was created for people have roommates, and they would like to know when they can have some alone time. The idea stems from when2meet, but, rather than trying to find a time when people can meet, it finds when one person is free and the other person is busy. The project is run as a script, and it takes in a file argument. The file should be formatted where each line contains a time that a person is busy. There will be one line that has a '#' to represent the separation between the first person's schedule and the second person's schedule. You can see an example of how formatting should work in test-schedules-1.txt and test-schedules-2.txt. To find free times for a person, that person's schedule should be inputted first in the file. Another thing to note is that this script currently only works for people with one roommmate. Finally, the script only seems to work when run in the MyProjectFolder directory."
   ]
  },
  {
   "cell_type": "markdown",
   "metadata": {},
   "source": [
    "## Citations\n"
   ]
  },
  {
   "cell_type": "markdown",
   "metadata": {},
   "source": [
    "https://stackoverflow.com/questions/11690333/is-it-possible-to-return-two-lists-from-a-function-in-python - I used this to figure out how to return two lists.\n",
    "\n",
    "https://docs.python.org/3/tutorial/inputoutput.html#reading-and-writing-files - I used this to figure out file handling."
   ]
  },
  {
   "cell_type": "markdown",
   "metadata": {},
   "source": [
    "## Project Code\n",
    "\n",
    "If it makes sense for your project, you can have code and outputs here in the notebook as well."
   ]
  },
  {
   "cell_type": "code",
   "execution_count": 6,
   "metadata": {
    "scrolled": true
   },
   "outputs": [
    {
     "name": "stdout",
     "output_type": "stream",
     "text": [
      "You're free and your roommate is busy during:\r\n",
      "9:00a-9:50a\r\n",
      "2:00p-4:00p\r\n"
     ]
    }
   ],
   "source": [
    "# Runs the script on a provided file \n",
    "!python3 ./scripts/find_free_times.py ./my_module/test-schedules-1.txt"
   ]
  },
  {
   "cell_type": "code",
   "execution_count": 7,
   "metadata": {},
   "outputs": [
    {
     "name": "stdout",
     "output_type": "stream",
     "text": [
      "You're free and your roommate is busy during:\r\n",
      "9:30a-10:50a\r\n",
      "12:30p-1:50p\r\n",
      "5:00p-7:50p\r\n"
     ]
    }
   ],
   "source": [
    "# Runs the script on another provided file\n",
    "!python3 ./scripts/find_free_times.py ./my_module/test-schedules-2.txt"
   ]
  },
  {
   "cell_type": "markdown",
   "metadata": {},
   "source": [
    "#### Extra Credit (*optional*)\n",
    "\n",
    "1. My Python background was limited to having seen Python but never actually coding in it until COGS 18\n",
    "2. At first, this project was going to be implemented using Django, and I had begun to learn it through online resources. However, Professor Ellis encouraged me to first create an iteration of the project that met the requirements but with the ability to incorporate Django. I'm glad she did so, because I'm not entirely sure that I would've finished on time had I continued down that path. I know this, because I continued learning Django. Not too long after, I realized that I would need more time to fully explore Django. In this sense, I challenged myself, because I was learning Django and web development. In terms of the project I turned in, I challenged myself by learning how to read files in Python and by deciding on a file format for the file command line argument."
   ]
  }
 ],
 "metadata": {
  "kernelspec": {
   "display_name": "Python 3",
   "language": "python",
   "name": "python3"
  },
  "language_info": {
   "codemirror_mode": {
    "name": "ipython",
    "version": 3
   },
   "file_extension": ".py",
   "mimetype": "text/x-python",
   "name": "python",
   "nbconvert_exporter": "python",
   "pygments_lexer": "ipython3",
   "version": "3.7.6"
  }
 },
 "nbformat": 4,
 "nbformat_minor": 2
}
